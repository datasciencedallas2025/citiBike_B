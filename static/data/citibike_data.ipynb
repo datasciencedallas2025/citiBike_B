{
 "cells": [
  {
   "cell_type": "code",
   "execution_count": 2,
   "id": "571ef0a7-e5cb-45e9-b6ba-664e4fa8281a",
   "metadata": {},
   "outputs": [
    {
     "data": {
      "text/html": [
       "<div>\n",
       "<style scoped>\n",
       "    .dataframe tbody tr th:only-of-type {\n",
       "        vertical-align: middle;\n",
       "    }\n",
       "\n",
       "    .dataframe tbody tr th {\n",
       "        vertical-align: top;\n",
       "    }\n",
       "\n",
       "    .dataframe thead th {\n",
       "        text-align: right;\n",
       "    }\n",
       "</style>\n",
       "<table border=\"1\" class=\"dataframe\">\n",
       "  <thead>\n",
       "    <tr style=\"text-align: right;\">\n",
       "      <th></th>\n",
       "      <th>tripduration</th>\n",
       "      <th>starttime</th>\n",
       "      <th>stoptime</th>\n",
       "      <th>start station id</th>\n",
       "      <th>start station name</th>\n",
       "      <th>start station latitude</th>\n",
       "      <th>start station longitude</th>\n",
       "      <th>end station id</th>\n",
       "      <th>end station name</th>\n",
       "      <th>end station latitude</th>\n",
       "      <th>end station longitude</th>\n",
       "      <th>bikeid</th>\n",
       "      <th>usertype</th>\n",
       "      <th>birth year</th>\n",
       "      <th>gender</th>\n",
       "    </tr>\n",
       "  </thead>\n",
       "  <tbody>\n",
       "    <tr>\n",
       "      <th>0</th>\n",
       "      <td>592</td>\n",
       "      <td>2018-01-22 08:02:38.5270</td>\n",
       "      <td>2018-01-22 08:12:31.2680</td>\n",
       "      <td>478.0</td>\n",
       "      <td>11 Ave &amp; W 41 St</td>\n",
       "      <td>40.760301</td>\n",
       "      <td>-73.998842</td>\n",
       "      <td>505.0</td>\n",
       "      <td>6 Ave &amp; W 33 St</td>\n",
       "      <td>40.749013</td>\n",
       "      <td>-73.988484</td>\n",
       "      <td>33395</td>\n",
       "      <td>Subscriber</td>\n",
       "      <td>1986</td>\n",
       "      <td>1</td>\n",
       "    </tr>\n",
       "    <tr>\n",
       "      <th>1</th>\n",
       "      <td>450</td>\n",
       "      <td>2018-01-03 10:00:25.9200</td>\n",
       "      <td>2018-01-03 10:07:56.2390</td>\n",
       "      <td>509.0</td>\n",
       "      <td>9 Ave &amp; W 22 St</td>\n",
       "      <td>40.745497</td>\n",
       "      <td>-74.001971</td>\n",
       "      <td>474.0</td>\n",
       "      <td>5 Ave &amp; E 29 St</td>\n",
       "      <td>40.745168</td>\n",
       "      <td>-73.986831</td>\n",
       "      <td>29115</td>\n",
       "      <td>Subscriber</td>\n",
       "      <td>1981</td>\n",
       "      <td>1</td>\n",
       "    </tr>\n",
       "    <tr>\n",
       "      <th>2</th>\n",
       "      <td>629</td>\n",
       "      <td>2018-01-30 18:52:01.6100</td>\n",
       "      <td>2018-01-30 19:02:31.3370</td>\n",
       "      <td>379.0</td>\n",
       "      <td>W 31 St &amp; 7 Ave</td>\n",
       "      <td>40.749156</td>\n",
       "      <td>-73.991600</td>\n",
       "      <td>487.0</td>\n",
       "      <td>E 20 St &amp; FDR Drive</td>\n",
       "      <td>40.733143</td>\n",
       "      <td>-73.975739</td>\n",
       "      <td>26062</td>\n",
       "      <td>Subscriber</td>\n",
       "      <td>1992</td>\n",
       "      <td>1</td>\n",
       "    </tr>\n",
       "    <tr>\n",
       "      <th>3</th>\n",
       "      <td>389</td>\n",
       "      <td>2018-01-24 19:06:03.7390</td>\n",
       "      <td>2018-01-24 19:12:33.3570</td>\n",
       "      <td>3090.0</td>\n",
       "      <td>N 8 St &amp; Driggs Ave</td>\n",
       "      <td>40.717746</td>\n",
       "      <td>-73.956001</td>\n",
       "      <td>3106.0</td>\n",
       "      <td>Driggs Ave &amp; N Henry St</td>\n",
       "      <td>40.723250</td>\n",
       "      <td>-73.943080</td>\n",
       "      <td>17766</td>\n",
       "      <td>Subscriber</td>\n",
       "      <td>1974</td>\n",
       "      <td>1</td>\n",
       "    </tr>\n",
       "    <tr>\n",
       "      <th>4</th>\n",
       "      <td>302</td>\n",
       "      <td>2018-01-08 17:09:12.6380</td>\n",
       "      <td>2018-01-08 17:14:15.5780</td>\n",
       "      <td>537.0</td>\n",
       "      <td>Lexington Ave &amp; E 24 St</td>\n",
       "      <td>40.740259</td>\n",
       "      <td>-73.984092</td>\n",
       "      <td>483.0</td>\n",
       "      <td>E 12 St &amp; 3 Ave</td>\n",
       "      <td>40.732233</td>\n",
       "      <td>-73.988900</td>\n",
       "      <td>30799</td>\n",
       "      <td>Subscriber</td>\n",
       "      <td>1978</td>\n",
       "      <td>1</td>\n",
       "    </tr>\n",
       "  </tbody>\n",
       "</table>\n",
       "</div>"
      ],
      "text/plain": [
       "   tripduration                 starttime                  stoptime  \\\n",
       "0           592  2018-01-22 08:02:38.5270  2018-01-22 08:12:31.2680   \n",
       "1           450  2018-01-03 10:00:25.9200  2018-01-03 10:07:56.2390   \n",
       "2           629  2018-01-30 18:52:01.6100  2018-01-30 19:02:31.3370   \n",
       "3           389  2018-01-24 19:06:03.7390  2018-01-24 19:12:33.3570   \n",
       "4           302  2018-01-08 17:09:12.6380  2018-01-08 17:14:15.5780   \n",
       "\n",
       "   start station id       start station name  start station latitude  \\\n",
       "0             478.0         11 Ave & W 41 St               40.760301   \n",
       "1             509.0          9 Ave & W 22 St               40.745497   \n",
       "2             379.0          W 31 St & 7 Ave               40.749156   \n",
       "3            3090.0      N 8 St & Driggs Ave               40.717746   \n",
       "4             537.0  Lexington Ave & E 24 St               40.740259   \n",
       "\n",
       "   start station longitude  end station id         end station name  \\\n",
       "0               -73.998842           505.0          6 Ave & W 33 St   \n",
       "1               -74.001971           474.0          5 Ave & E 29 St   \n",
       "2               -73.991600           487.0      E 20 St & FDR Drive   \n",
       "3               -73.956001          3106.0  Driggs Ave & N Henry St   \n",
       "4               -73.984092           483.0          E 12 St & 3 Ave   \n",
       "\n",
       "   end station latitude  end station longitude  bikeid    usertype  \\\n",
       "0             40.749013             -73.988484   33395  Subscriber   \n",
       "1             40.745168             -73.986831   29115  Subscriber   \n",
       "2             40.733143             -73.975739   26062  Subscriber   \n",
       "3             40.723250             -73.943080   17766  Subscriber   \n",
       "4             40.732233             -73.988900   30799  Subscriber   \n",
       "\n",
       "   birth year  gender  \n",
       "0        1986       1  \n",
       "1        1981       1  \n",
       "2        1992       1  \n",
       "3        1974       1  \n",
       "4        1978       1  "
      ]
     },
     "execution_count": 2,
     "metadata": {},
     "output_type": "execute_result"
    }
   ],
   "source": [
    "import pandas as pd\n",
    "import numpy as np\n",
    "from matplotlib import pyplot as plt\n",
    "from scipy.stats import linregress\n",
    "import seaborn as sns\n",
    "import matplotlib.pyplot as plt\n",
    "\n",
    "file = pd.read_csv(\"Data/2018_citybike_rides_sample.csv\")\n",
    "\n",
    "file.head()"
   ]
  },
  {
   "cell_type": "code",
   "execution_count": 3,
   "id": "6f48bd8f-d1ac-46a0-8466-55f0ef58398a",
   "metadata": {},
   "outputs": [],
   "source": [
    "df = file"
   ]
  },
  {
   "cell_type": "code",
   "execution_count": 4,
   "id": "ac85d02f-25ed-44a4-939b-ce0fa75e6bce",
   "metadata": {},
   "outputs": [
    {
     "data": {
      "text/plain": [
       "gender\n",
       "1    240604\n",
       "2     78568\n",
       "0     26991\n",
       "Name: count, dtype: int64"
      ]
     },
     "execution_count": 4,
     "metadata": {},
     "output_type": "execute_result"
    }
   ],
   "source": [
    "df.value_counts(\"gender\")"
   ]
  },
  {
   "cell_type": "code",
   "execution_count": 5,
   "id": "3d79c2d9-b7df-421e-8f3c-c43b6cf10b7b",
   "metadata": {},
   "outputs": [
    {
     "data": {
      "text/plain": [
       "usertype\n",
       "Subscriber    311628\n",
       "Customer       34535\n",
       "Name: count, dtype: int64"
      ]
     },
     "execution_count": 5,
     "metadata": {},
     "output_type": "execute_result"
    }
   ],
   "source": [
    "df.value_counts(\"usertype\")"
   ]
  },
  {
   "cell_type": "code",
   "execution_count": 6,
   "id": "14e4e000-e911-4679-98d9-ff6e2188061d",
   "metadata": {},
   "outputs": [
    {
     "data": {
      "text/plain": [
       "birth year\n",
       "1969    30732\n",
       "1988    13779\n",
       "1990    13692\n",
       "1989    13553\n",
       "1991    13163\n",
       "        ...  \n",
       "1895        3\n",
       "1890        2\n",
       "1931        2\n",
       "1916        1\n",
       "1889        1\n",
       "Name: count, Length: 93, dtype: int64"
      ]
     },
     "execution_count": 6,
     "metadata": {},
     "output_type": "execute_result"
    }
   ],
   "source": [
    "df.value_counts(\"birth year\")"
   ]
  },
  {
   "cell_type": "code",
   "execution_count": 9,
   "id": "962b805a-0859-49d8-8122-8da12e6f1b4d",
   "metadata": {},
   "outputs": [],
   "source": [
    "df2 = df[df['birth year'] >= 1950]"
   ]
  },
  {
   "cell_type": "code",
   "execution_count": 10,
   "id": "be051ab5-8005-4985-894f-7f5225bd719e",
   "metadata": {},
   "outputs": [
    {
     "name": "stdout",
     "output_type": "stream",
     "text": [
      "        tripduration                 starttime                  stoptime  \\\n",
      "0                592  2018-01-22 08:02:38.5270  2018-01-22 08:12:31.2680   \n",
      "1                450  2018-01-03 10:00:25.9200  2018-01-03 10:07:56.2390   \n",
      "2                629  2018-01-30 18:52:01.6100  2018-01-30 19:02:31.3370   \n",
      "3                389  2018-01-24 19:06:03.7390  2018-01-24 19:12:33.3570   \n",
      "4                302  2018-01-08 17:09:12.6380  2018-01-08 17:14:15.5780   \n",
      "...              ...                       ...                       ...   \n",
      "346157           335  2018-12-03 21:24:57.9470  2018-12-03 21:30:33.3890   \n",
      "346158           745  2018-12-13 08:36:39.7620  2018-12-13 08:49:05.0370   \n",
      "346159          1151  2018-12-10 08:28:44.4410  2018-12-10 08:47:56.1400   \n",
      "346160          3452  2018-12-03 17:59:02.8320  2018-12-03 18:56:35.5920   \n",
      "346162          1076  2018-12-28 17:34:39.7970  2018-12-28 17:52:36.2300   \n",
      "\n",
      "        start station id       start station name  start station latitude  \\\n",
      "0                  478.0         11 Ave & W 41 St               40.760301   \n",
      "1                  509.0          9 Ave & W 22 St               40.745497   \n",
      "2                  379.0          W 31 St & 7 Ave               40.749156   \n",
      "3                 3090.0      N 8 St & Driggs Ave               40.717746   \n",
      "4                  537.0  Lexington Ave & E 24 St               40.740259   \n",
      "...                  ...                      ...                     ...   \n",
      "346157             476.0          E 31 St & 3 Ave               40.743943   \n",
      "346158             495.0         W 47 St & 10 Ave               40.762699   \n",
      "346159             432.0        E 7 St & Avenue A               40.726218   \n",
      "346160             459.0         W 20 St & 11 Ave               40.746745   \n",
      "346162            3462.0          E 44 St & 2 Ave               40.751184   \n",
      "\n",
      "        start station longitude  end station id         end station name  \\\n",
      "0                    -73.998842           505.0          6 Ave & W 33 St   \n",
      "1                    -74.001971           474.0          5 Ave & E 29 St   \n",
      "2                    -73.991600           487.0      E 20 St & FDR Drive   \n",
      "3                    -73.956001          3106.0  Driggs Ave & N Henry St   \n",
      "4                    -73.984092           483.0          E 12 St & 3 Ave   \n",
      "...                         ...             ...                      ...   \n",
      "346157               -73.979661           486.0       Broadway & W 29 St   \n",
      "346158               -73.993012          3462.0          E 44 St & 2 Ave   \n",
      "346159               -73.983799           146.0     Hudson St & Reade St   \n",
      "346160               -74.007756           477.0          W 41 St & 8 Ave   \n",
      "346162               -73.971387           168.0          W 18 St & 6 Ave   \n",
      "\n",
      "        end station latitude  end station longitude  bikeid    usertype  \\\n",
      "0                  40.749013             -73.988484   33395  Subscriber   \n",
      "1                  40.745168             -73.986831   29115  Subscriber   \n",
      "2                  40.733143             -73.975739   26062  Subscriber   \n",
      "3                  40.723250             -73.943080   17766  Subscriber   \n",
      "4                  40.732233             -73.988900   30799  Subscriber   \n",
      "...                      ...                    ...     ...         ...   \n",
      "346157             40.746201             -73.988557   18564  Subscriber   \n",
      "346158             40.751184             -73.971387   26543  Subscriber   \n",
      "346159             40.716250             -74.009106   18628  Subscriber   \n",
      "346160             40.756405             -73.990026   32986  Subscriber   \n",
      "346162             40.739713             -73.994564   29039  Subscriber   \n",
      "\n",
      "        birth year  gender  \n",
      "0             1986       1  \n",
      "1             1981       1  \n",
      "2             1992       1  \n",
      "3             1974       1  \n",
      "4             1978       1  \n",
      "...            ...     ...  \n",
      "346157        1989       1  \n",
      "346158        1972       1  \n",
      "346159        1991       2  \n",
      "346160        1966       1  \n",
      "346162        1987       2  \n",
      "\n",
      "[315830 rows x 15 columns]\n"
     ]
    }
   ],
   "source": [
    "# Drop rows where gender is 0\n",
    "df3 = df2[df2['gender'] != 0]\n",
    "\n",
    "print(df3)\n"
   ]
  },
  {
   "cell_type": "code",
   "execution_count": 11,
   "id": "34df2c15-5b1b-4c28-8421-029f1b2c0ab9",
   "metadata": {},
   "outputs": [
    {
     "data": {
      "text/plain": [
       "gender\n",
       "1    237930\n",
       "2     77900\n",
       "Name: count, dtype: int64"
      ]
     },
     "execution_count": 11,
     "metadata": {},
     "output_type": "execute_result"
    }
   ],
   "source": [
    "df3.value_counts(\"gender\")"
   ]
  },
  {
   "cell_type": "code",
   "execution_count": 12,
   "id": "512a91c5-71c5-4dd9-a7b5-dc38604ab6db",
   "metadata": {},
   "outputs": [
    {
     "data": {
      "text/plain": [
       "birth year\n",
       "1988    13697\n",
       "1990    13568\n",
       "1989    13447\n",
       "1991    13129\n",
       "1992    12313\n",
       "1987    12133\n",
       "1986    11897\n",
       "1985    11617\n",
       "1993    11128\n",
       "1984    10870\n",
       "1983    10035\n",
       "1982     9334\n",
       "1981     8909\n",
       "1994     8360\n",
       "1980     8125\n",
       "1979     7596\n",
       "1978     7040\n",
       "1977     6475\n",
       "1976     6389\n",
       "1970     6363\n",
       "1975     6013\n",
       "1995     6008\n",
       "1974     6007\n",
       "1973     5968\n",
       "1971     5925\n",
       "1972     5828\n",
       "1969     5736\n",
       "1967     5272\n",
       "1968     5241\n",
       "1964     4794\n",
       "1966     4772\n",
       "1965     4723\n",
       "1963     4460\n",
       "1962     4248\n",
       "1960     3819\n",
       "1961     3750\n",
       "1996     3563\n",
       "1959     3273\n",
       "1958     2873\n",
       "1997     2807\n",
       "1957     2691\n",
       "1956     2437\n",
       "1998     2195\n",
       "1954     1874\n",
       "1955     1768\n",
       "1953     1581\n",
       "1999     1544\n",
       "1952     1071\n",
       "1951     1002\n",
       "2000      895\n",
       "1950      699\n",
       "2001      446\n",
       "2002      122\n",
       "Name: count, dtype: int64"
      ]
     },
     "execution_count": 12,
     "metadata": {},
     "output_type": "execute_result"
    }
   ],
   "source": [
    "df3.value_counts(\"birth year\")"
   ]
  },
  {
   "cell_type": "code",
   "execution_count": 13,
   "id": "b6e5c921-1fdd-4cbd-b056-e2729a1c41be",
   "metadata": {},
   "outputs": [
    {
     "data": {
      "text/plain": [
       "Index(['tripduration', 'starttime', 'stoptime', 'start station id',\n",
       "       'start station name', 'start station latitude',\n",
       "       'start station longitude', 'end station id', 'end station name',\n",
       "       'end station latitude', 'end station longitude', 'bikeid', 'usertype',\n",
       "       'birth year', 'gender'],\n",
       "      dtype='object')"
      ]
     },
     "execution_count": 13,
     "metadata": {},
     "output_type": "execute_result"
    }
   ],
   "source": [
    "df3.columns"
   ]
  },
  {
   "cell_type": "code",
   "execution_count": 14,
   "id": "cffb3393-2430-4d2b-b9ee-a52ac8f7cf06",
   "metadata": {},
   "outputs": [],
   "source": [
    "df4 = df3.rename(columns={\"tripduration\": \"tripDuration\", \"starttime\":\"startTime\", \"stoptime\":\"stopTime\", \"start station id\":\"startStationID\",\n",
    "       \"start station name\":\"startStationName\", \"start station latitude\":\"startStationLatitude\",\n",
    "       \"start station longitude\":\"startStationLongitude\", \"end station id\":\"endStationID\", \"end station name\":\"endStationName\",\n",
    "       \"end station latitude\":\"endStationLatitude\", \"end station longitude\":\"endStationLongitude\", \"bikeid\":\"bikeID\", \"usertype\":\"userType\",\n",
    "       \"birth year\":\"birthYear\", \"gender\":\"gender\"})"
   ]
  },
  {
   "cell_type": "code",
   "execution_count": 15,
   "id": "8c01cbf2-21ef-40a3-aab3-8934547ab927",
   "metadata": {},
   "outputs": [
    {
     "data": {
      "text/plain": [
       "Index(['tripDuration', 'startTime', 'stopTime', 'startStationID',\n",
       "       'startStationName', 'startStationLatitude', 'startStationLongitude',\n",
       "       'endStationID', 'endStationName', 'endStationLatitude',\n",
       "       'endStationLongitude', 'bikeID', 'userType', 'birthYear', 'gender'],\n",
       "      dtype='object')"
      ]
     },
     "execution_count": 15,
     "metadata": {},
     "output_type": "execute_result"
    }
   ],
   "source": [
    "df4.columns"
   ]
  },
  {
   "cell_type": "code",
   "execution_count": 16,
   "id": "95ccdbe3-e1fa-4f1a-a325-e3014b6c253d",
   "metadata": {},
   "outputs": [
    {
     "data": {
      "text/html": [
       "<div>\n",
       "<style scoped>\n",
       "    .dataframe tbody tr th:only-of-type {\n",
       "        vertical-align: middle;\n",
       "    }\n",
       "\n",
       "    .dataframe tbody tr th {\n",
       "        vertical-align: top;\n",
       "    }\n",
       "\n",
       "    .dataframe thead th {\n",
       "        text-align: right;\n",
       "    }\n",
       "</style>\n",
       "<table border=\"1\" class=\"dataframe\">\n",
       "  <thead>\n",
       "    <tr style=\"text-align: right;\">\n",
       "      <th></th>\n",
       "      <th>tripDuration</th>\n",
       "      <th>startStationID</th>\n",
       "      <th>startStationLatitude</th>\n",
       "      <th>startStationLongitude</th>\n",
       "      <th>endStationID</th>\n",
       "      <th>endStationLatitude</th>\n",
       "      <th>endStationLongitude</th>\n",
       "      <th>bikeID</th>\n",
       "      <th>birthYear</th>\n",
       "      <th>gender</th>\n",
       "    </tr>\n",
       "  </thead>\n",
       "  <tbody>\n",
       "    <tr>\n",
       "      <th>count</th>\n",
       "      <td>3.158300e+05</td>\n",
       "      <td>315806.000000</td>\n",
       "      <td>315830.000000</td>\n",
       "      <td>315830.000000</td>\n",
       "      <td>315806.000000</td>\n",
       "      <td>315830.000000</td>\n",
       "      <td>315830.000000</td>\n",
       "      <td>315830.000000</td>\n",
       "      <td>315830.000000</td>\n",
       "      <td>315830.000000</td>\n",
       "    </tr>\n",
       "    <tr>\n",
       "      <th>mean</th>\n",
       "      <td>8.423748e+02</td>\n",
       "      <td>1209.840988</td>\n",
       "      <td>40.735950</td>\n",
       "      <td>-73.984984</td>\n",
       "      <td>1432.073922</td>\n",
       "      <td>40.736130</td>\n",
       "      <td>-73.984643</td>\n",
       "      <td>26704.652082</td>\n",
       "      <td>1980.045911</td>\n",
       "      <td>1.246652</td>\n",
       "    </tr>\n",
       "    <tr>\n",
       "      <th>std</th>\n",
       "      <td>1.042843e+04</td>\n",
       "      <td>1316.931981</td>\n",
       "      <td>0.028723</td>\n",
       "      <td>0.017496</td>\n",
       "      <td>1402.691203</td>\n",
       "      <td>0.029241</td>\n",
       "      <td>0.017919</td>\n",
       "      <td>6201.359159</td>\n",
       "      <td>11.495690</td>\n",
       "      <td>0.431063</td>\n",
       "    </tr>\n",
       "    <tr>\n",
       "      <th>min</th>\n",
       "      <td>6.100000e+01</td>\n",
       "      <td>72.000000</td>\n",
       "      <td>40.646538</td>\n",
       "      <td>-74.025353</td>\n",
       "      <td>72.000000</td>\n",
       "      <td>40.646538</td>\n",
       "      <td>-74.038051</td>\n",
       "      <td>14529.000000</td>\n",
       "      <td>1950.000000</td>\n",
       "      <td>1.000000</td>\n",
       "    </tr>\n",
       "    <tr>\n",
       "      <th>25%</th>\n",
       "      <td>3.440000e+02</td>\n",
       "      <td>346.000000</td>\n",
       "      <td>40.718502</td>\n",
       "      <td>-73.996674</td>\n",
       "      <td>362.000000</td>\n",
       "      <td>40.718822</td>\n",
       "      <td>-73.996674</td>\n",
       "      <td>20565.000000</td>\n",
       "      <td>1972.000000</td>\n",
       "      <td>1.000000</td>\n",
       "    </tr>\n",
       "    <tr>\n",
       "      <th>50%</th>\n",
       "      <td>5.640000e+02</td>\n",
       "      <td>466.000000</td>\n",
       "      <td>40.736502</td>\n",
       "      <td>-73.987763</td>\n",
       "      <td>492.000000</td>\n",
       "      <td>40.736529</td>\n",
       "      <td>-73.987654</td>\n",
       "      <td>28470.000000</td>\n",
       "      <td>1983.000000</td>\n",
       "      <td>1.000000</td>\n",
       "    </tr>\n",
       "    <tr>\n",
       "      <th>75%</th>\n",
       "      <td>9.530000e+02</td>\n",
       "      <td>3092.000000</td>\n",
       "      <td>40.754557</td>\n",
       "      <td>-73.976687</td>\n",
       "      <td>3168.000000</td>\n",
       "      <td>40.754666</td>\n",
       "      <td>-73.976376</td>\n",
       "      <td>31980.000000</td>\n",
       "      <td>1989.000000</td>\n",
       "      <td>1.000000</td>\n",
       "    </tr>\n",
       "    <tr>\n",
       "      <th>max</th>\n",
       "      <td>3.204053e+06</td>\n",
       "      <td>3721.000000</td>\n",
       "      <td>45.506264</td>\n",
       "      <td>-73.568906</td>\n",
       "      <td>3721.000000</td>\n",
       "      <td>45.506264</td>\n",
       "      <td>-73.568906</td>\n",
       "      <td>35806.000000</td>\n",
       "      <td>2002.000000</td>\n",
       "      <td>2.000000</td>\n",
       "    </tr>\n",
       "  </tbody>\n",
       "</table>\n",
       "</div>"
      ],
      "text/plain": [
       "       tripDuration  startStationID  startStationLatitude  \\\n",
       "count  3.158300e+05   315806.000000         315830.000000   \n",
       "mean   8.423748e+02     1209.840988             40.735950   \n",
       "std    1.042843e+04     1316.931981              0.028723   \n",
       "min    6.100000e+01       72.000000             40.646538   \n",
       "25%    3.440000e+02      346.000000             40.718502   \n",
       "50%    5.640000e+02      466.000000             40.736502   \n",
       "75%    9.530000e+02     3092.000000             40.754557   \n",
       "max    3.204053e+06     3721.000000             45.506264   \n",
       "\n",
       "       startStationLongitude   endStationID  endStationLatitude  \\\n",
       "count          315830.000000  315806.000000       315830.000000   \n",
       "mean              -73.984984    1432.073922           40.736130   \n",
       "std                 0.017496    1402.691203            0.029241   \n",
       "min               -74.025353      72.000000           40.646538   \n",
       "25%               -73.996674     362.000000           40.718822   \n",
       "50%               -73.987763     492.000000           40.736529   \n",
       "75%               -73.976687    3168.000000           40.754666   \n",
       "max               -73.568906    3721.000000           45.506264   \n",
       "\n",
       "       endStationLongitude         bikeID      birthYear         gender  \n",
       "count        315830.000000  315830.000000  315830.000000  315830.000000  \n",
       "mean            -73.984643   26704.652082    1980.045911       1.246652  \n",
       "std               0.017919    6201.359159      11.495690       0.431063  \n",
       "min             -74.038051   14529.000000    1950.000000       1.000000  \n",
       "25%             -73.996674   20565.000000    1972.000000       1.000000  \n",
       "50%             -73.987654   28470.000000    1983.000000       1.000000  \n",
       "75%             -73.976376   31980.000000    1989.000000       1.000000  \n",
       "max             -73.568906   35806.000000    2002.000000       2.000000  "
      ]
     },
     "execution_count": 16,
     "metadata": {},
     "output_type": "execute_result"
    }
   ],
   "source": [
    "df4.describe()"
   ]
  },
  {
   "cell_type": "code",
   "execution_count": 17,
   "id": "6d55df1c-0539-44e8-aac3-b8254714b24a",
   "metadata": {},
   "outputs": [
    {
     "data": {
      "text/plain": [
       "(315830, 15)"
      ]
     },
     "execution_count": 17,
     "metadata": {},
     "output_type": "execute_result"
    }
   ],
   "source": [
    "df4.shape"
   ]
  },
  {
   "cell_type": "code",
   "execution_count": 19,
   "id": "68f7b7b3-f416-4956-86c4-9adcb44a829b",
   "metadata": {},
   "outputs": [
    {
     "name": "stdout",
     "output_type": "stream",
     "text": [
      "<class 'pandas.core.frame.DataFrame'>\n",
      "Index: 315830 entries, 0 to 346162\n",
      "Data columns (total 15 columns):\n",
      " #   Column                 Non-Null Count   Dtype  \n",
      "---  ------                 --------------   -----  \n",
      " 0   tripDuration           315830 non-null  int64  \n",
      " 1   startTime              315830 non-null  object \n",
      " 2   stopTime               315830 non-null  object \n",
      " 3   startStationID         315806 non-null  float64\n",
      " 4   startStationName       315806 non-null  object \n",
      " 5   startStationLatitude   315830 non-null  float64\n",
      " 6   startStationLongitude  315830 non-null  float64\n",
      " 7   endStationID           315806 non-null  float64\n",
      " 8   endStationName         315806 non-null  object \n",
      " 9   endStationLatitude     315830 non-null  float64\n",
      " 10  endStationLongitude    315830 non-null  float64\n",
      " 11  bikeID                 315830 non-null  int64  \n",
      " 12  userType               315830 non-null  object \n",
      " 13  birthYear              315830 non-null  int64  \n",
      " 14  gender                 315830 non-null  int64  \n",
      "dtypes: float64(6), int64(4), object(5)\n",
      "memory usage: 38.6+ MB\n"
     ]
    }
   ],
   "source": [
    "df4.info()"
   ]
  },
  {
   "cell_type": "code",
   "execution_count": 20,
   "id": "9819c310-fabb-4cb4-8332-9396985796f9",
   "metadata": {},
   "outputs": [],
   "source": [
    "df5 = df4.dropna()"
   ]
  },
  {
   "cell_type": "code",
   "execution_count": 21,
   "id": "86d9752c-0f90-42b3-98b0-da81834706d6",
   "metadata": {},
   "outputs": [
    {
     "name": "stdout",
     "output_type": "stream",
     "text": [
      "<class 'pandas.core.frame.DataFrame'>\n",
      "Index: 315806 entries, 0 to 346162\n",
      "Data columns (total 15 columns):\n",
      " #   Column                 Non-Null Count   Dtype  \n",
      "---  ------                 --------------   -----  \n",
      " 0   tripDuration           315806 non-null  int64  \n",
      " 1   startTime              315806 non-null  object \n",
      " 2   stopTime               315806 non-null  object \n",
      " 3   startStationID         315806 non-null  float64\n",
      " 4   startStationName       315806 non-null  object \n",
      " 5   startStationLatitude   315806 non-null  float64\n",
      " 6   startStationLongitude  315806 non-null  float64\n",
      " 7   endStationID           315806 non-null  float64\n",
      " 8   endStationName         315806 non-null  object \n",
      " 9   endStationLatitude     315806 non-null  float64\n",
      " 10  endStationLongitude    315806 non-null  float64\n",
      " 11  bikeID                 315806 non-null  int64  \n",
      " 12  userType               315806 non-null  object \n",
      " 13  birthYear              315806 non-null  int64  \n",
      " 14  gender                 315806 non-null  int64  \n",
      "dtypes: float64(6), int64(4), object(5)\n",
      "memory usage: 38.6+ MB\n"
     ]
    }
   ],
   "source": [
    "df5.info()"
   ]
  },
  {
   "cell_type": "code",
   "execution_count": 22,
   "id": "42ee6218-2a58-420b-be49-1a1d068cc2bd",
   "metadata": {},
   "outputs": [],
   "source": [
    "# Define columns for each split\n",
    "columns_1 = ['bikeID', 'startStationID','endStationID', 'startTime', 'stopTime','tripDuration']\n",
    "columns_2 = ['userType', 'birthYear', 'gender', 'startStationLatitude', 'startStationLongitude', 'endStationLatitude','endStationLongitude']\n",
    "\n",
    "# Split DataFrame\n",
    "df6 = df5[columns_1]\n",
    "df7 = df5[columns_2]"
   ]
  },
  {
   "cell_type": "code",
   "execution_count": 27,
   "id": "545a45e4-ff51-4b5a-bf66-dcba94fcba09",
   "metadata": {},
   "outputs": [
    {
     "name": "stdout",
     "output_type": "stream",
     "text": [
      "<class 'pandas.core.frame.DataFrame'>\n",
      "Index: 315806 entries, 0 to 346162\n",
      "Data columns (total 6 columns):\n",
      " #   Column          Non-Null Count   Dtype  \n",
      "---  ------          --------------   -----  \n",
      " 0   bikeID          315806 non-null  int64  \n",
      " 1   startStationID  315806 non-null  float64\n",
      " 2   endStationID    315806 non-null  float64\n",
      " 3   startTime       315806 non-null  object \n",
      " 4   stopTime        315806 non-null  object \n",
      " 5   tripDuration    315806 non-null  int64  \n",
      "dtypes: float64(2), int64(2), object(2)\n",
      "memory usage: 24.9+ MB\n"
     ]
    }
   ],
   "source": [
    "df6.info()"
   ]
  },
  {
   "cell_type": "code",
   "execution_count": 28,
   "id": "dccbed79-5026-4aff-85af-3a1fa9ac7f32",
   "metadata": {},
   "outputs": [
    {
     "name": "stdout",
     "output_type": "stream",
     "text": [
      "<class 'pandas.core.frame.DataFrame'>\n",
      "Index: 315806 entries, 0 to 346162\n",
      "Data columns (total 7 columns):\n",
      " #   Column                 Non-Null Count   Dtype  \n",
      "---  ------                 --------------   -----  \n",
      " 0   userType               315806 non-null  object \n",
      " 1   birthYear              315806 non-null  int64  \n",
      " 2   gender                 315806 non-null  int64  \n",
      " 3   startStationLatitude   315806 non-null  float64\n",
      " 4   startStationLongitude  315806 non-null  float64\n",
      " 5   endStationLatitude     315806 non-null  float64\n",
      " 6   endStationLongitude    315806 non-null  float64\n",
      "dtypes: float64(4), int64(2), object(1)\n",
      "memory usage: 27.3+ MB\n"
     ]
    }
   ],
   "source": [
    "df7.info()"
   ]
  },
  {
   "cell_type": "code",
   "execution_count": 25,
   "id": "6f635fcd-0277-4fb2-a1c1-68a656f51702",
   "metadata": {},
   "outputs": [],
   "source": [
    "df6.to_json(orient=\"records\", path_or_buf = \"bike_time.json\")"
   ]
  },
  {
   "cell_type": "code",
   "execution_count": 26,
   "id": "c3a2a383-2865-47ad-b05f-dbf31f9a1380",
   "metadata": {},
   "outputs": [],
   "source": [
    "df7.to_json(orient=\"records\", path_or_buf = \"bike_user_and_map.json\")"
   ]
  },
  {
   "cell_type": "code",
   "execution_count": null,
   "id": "ae6f2513-1883-4b66-b292-9f2d849a3c7f",
   "metadata": {},
   "outputs": [],
   "source": []
  }
 ],
 "metadata": {
  "kernelspec": {
   "display_name": "Python 3 (ipykernel)",
   "language": "python",
   "name": "python3"
  },
  "language_info": {
   "codemirror_mode": {
    "name": "ipython",
    "version": 3
   },
   "file_extension": ".py",
   "mimetype": "text/x-python",
   "name": "python",
   "nbconvert_exporter": "python",
   "pygments_lexer": "ipython3",
   "version": "3.12.7"
  }
 },
 "nbformat": 4,
 "nbformat_minor": 5
}
