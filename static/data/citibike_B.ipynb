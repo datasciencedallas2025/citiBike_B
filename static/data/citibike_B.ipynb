{
 "cells": [
  {
   "cell_type": "code",
   "execution_count": 1,
   "id": "93225354-71cf-4933-a986-7c9dcfa9bc00",
   "metadata": {},
   "outputs": [],
   "source": [
    "import pandas as pd\n",
    "import numpy as np"
   ]
  },
  {
   "cell_type": "code",
   "execution_count": 2,
   "id": "93464e01-e19c-41b0-b251-ec1898e4ea42",
   "metadata": {},
   "outputs": [
    {
     "name": "stdout",
     "output_type": "stream",
     "text": [
      "01\n"
     ]
    },
    {
     "ename": "AttributeError",
     "evalue": "'DataFrame' object has no attribute 'append'",
     "output_type": "error",
     "traceback": [
      "\u001b[0;31m---------------------------------------------------------------------------\u001b[0m",
      "\u001b[0;31mAttributeError\u001b[0m                            Traceback (most recent call last)",
      "\u001b[0;32m/var/folders/9j/ck4ghkj915q59nnl_d5wvg4h0000gn/T/ipykernel_80542/3537900777.py\u001b[0m in \u001b[0;36m?\u001b[0;34m()\u001b[0m\n\u001b[1;32m      6\u001b[0m     \u001b[0mprint\u001b[0m\u001b[0;34m(\u001b[0m\u001b[0mmonth\u001b[0m\u001b[0;34m)\u001b[0m\u001b[0;34m\u001b[0m\u001b[0;34m\u001b[0m\u001b[0m\n\u001b[1;32m      7\u001b[0m     \u001b[0mfilepath\u001b[0m \u001b[0;34m=\u001b[0m\u001b[0;34mf\"\u001b[0m\u001b[0;34mData_D/2018\u001b[0m\u001b[0;34m{\u001b[0m\u001b[0mmonth\u001b[0m\u001b[0;34m}\u001b[0m\u001b[0;34m-citibike-tripdata.csv\u001b[0m\u001b[0;34m\"\u001b[0m\u001b[0;34m\u001b[0m\u001b[0;34m\u001b[0m\u001b[0m\n\u001b[1;32m      8\u001b[0m     \u001b[0mdf\u001b[0m\u001b[0;34m=\u001b[0m\u001b[0mpd\u001b[0m\u001b[0;34m.\u001b[0m\u001b[0mread_csv\u001b[0m\u001b[0;34m(\u001b[0m\u001b[0mfilepath\u001b[0m\u001b[0;34m,\u001b[0m\u001b[0mlow_memory\u001b[0m\u001b[0;34m=\u001b[0m\u001b[0;32mFalse\u001b[0m\u001b[0;34m)\u001b[0m\u001b[0;34m\u001b[0m\u001b[0;34m\u001b[0m\u001b[0m\n\u001b[1;32m      9\u001b[0m     \u001b[0mdf\u001b[0m\u001b[0;34m=\u001b[0m\u001b[0mdf\u001b[0m\u001b[0;34m.\u001b[0m\u001b[0msample\u001b[0m\u001b[0;34m(\u001b[0m\u001b[0mfrac\u001b[0m\u001b[0;34m=\u001b[0m\u001b[0;36m0.03\u001b[0m\u001b[0;34m,\u001b[0m\u001b[0mrandom_state\u001b[0m\u001b[0;34m=\u001b[0m\u001b[0;36m42\u001b[0m\u001b[0;34m)\u001b[0m\u001b[0;34m\u001b[0m\u001b[0;34m\u001b[0m\u001b[0m\n\u001b[0;32m---> 10\u001b[0;31m     \u001b[0mmain_df\u001b[0m\u001b[0;34m=\u001b[0m\u001b[0mmain_df\u001b[0m\u001b[0;34m.\u001b[0m\u001b[0mappend\u001b[0m\u001b[0;34m(\u001b[0m\u001b[0mdf\u001b[0m\u001b[0;34m)\u001b[0m\u001b[0;34m\u001b[0m\u001b[0;34m\u001b[0m\u001b[0m\n\u001b[0m\u001b[1;32m     11\u001b[0m \u001b[0;34m\u001b[0m\u001b[0m\n\u001b[1;32m     12\u001b[0m \u001b[0mmain_df\u001b[0m\u001b[0;34m=\u001b[0m\u001b[0mmain_df\u001b[0m\u001b[0;34m.\u001b[0m\u001b[0mreset_index\u001b[0m\u001b[0;34m(\u001b[0m\u001b[0mdrop\u001b[0m\u001b[0;34m=\u001b[0m\u001b[0;32mTrue\u001b[0m\u001b[0;34m)\u001b[0m\u001b[0;34m\u001b[0m\u001b[0;34m\u001b[0m\u001b[0m\n",
      "\u001b[0;32m/Applications/anaconda3/lib/python3.12/site-packages/pandas/core/generic.py\u001b[0m in \u001b[0;36m?\u001b[0;34m(self, name)\u001b[0m\n\u001b[1;32m   6295\u001b[0m             \u001b[0;32mand\u001b[0m \u001b[0mname\u001b[0m \u001b[0;32mnot\u001b[0m \u001b[0;32min\u001b[0m \u001b[0mself\u001b[0m\u001b[0;34m.\u001b[0m\u001b[0m_accessors\u001b[0m\u001b[0;34m\u001b[0m\u001b[0;34m\u001b[0m\u001b[0m\n\u001b[1;32m   6296\u001b[0m             \u001b[0;32mand\u001b[0m \u001b[0mself\u001b[0m\u001b[0;34m.\u001b[0m\u001b[0m_info_axis\u001b[0m\u001b[0;34m.\u001b[0m\u001b[0m_can_hold_identifiers_and_holds_name\u001b[0m\u001b[0;34m(\u001b[0m\u001b[0mname\u001b[0m\u001b[0;34m)\u001b[0m\u001b[0;34m\u001b[0m\u001b[0;34m\u001b[0m\u001b[0m\n\u001b[1;32m   6297\u001b[0m         \u001b[0;34m)\u001b[0m\u001b[0;34m:\u001b[0m\u001b[0;34m\u001b[0m\u001b[0;34m\u001b[0m\u001b[0m\n\u001b[1;32m   6298\u001b[0m             \u001b[0;32mreturn\u001b[0m \u001b[0mself\u001b[0m\u001b[0;34m[\u001b[0m\u001b[0mname\u001b[0m\u001b[0;34m]\u001b[0m\u001b[0;34m\u001b[0m\u001b[0;34m\u001b[0m\u001b[0m\n\u001b[0;32m-> 6299\u001b[0;31m         \u001b[0;32mreturn\u001b[0m \u001b[0mobject\u001b[0m\u001b[0;34m.\u001b[0m\u001b[0m__getattribute__\u001b[0m\u001b[0;34m(\u001b[0m\u001b[0mself\u001b[0m\u001b[0;34m,\u001b[0m \u001b[0mname\u001b[0m\u001b[0;34m)\u001b[0m\u001b[0;34m\u001b[0m\u001b[0;34m\u001b[0m\u001b[0m\n\u001b[0m",
      "\u001b[0;31mAttributeError\u001b[0m: 'DataFrame' object has no attribute 'append'"
     ]
    }
   ],
   "source": [
    "months = [\"01\",\"02\",\"03\",\"04\",\"05\",\"06\",\"07\",\"08\",\"09\",\"10\",\"11\",\"12\"]\n",
    "\n",
    "main_df=pd.DataFrame()\n",
    "\n",
    "for month in months:\n",
    "    print(month)\n",
    "    filepath =f\"Data_D/2018{month}-citibike-tripdata.csv\"\n",
    "    df=pd.read_csv(filepath,low_memory=False)\n",
    "    df=df.sample(frac=0.03,random_state=42)\n",
    "    main_df=main_df.append(df)\n",
    "    \n",
    "main_df=main_df.reset_index(drop=True)"
   ]
  },
  {
   "cell_type": "code",
   "execution_count": 3,
   "id": "cc37155f-6518-4e3e-a6bb-d3e99127dfd7",
   "metadata": {},
   "outputs": [
    {
     "name": "stdout",
     "output_type": "stream",
     "text": [
      "Processing month: 01\n",
      "Processing month: 02\n",
      "Processing month: 03\n",
      "Processing month: 04\n",
      "Processing month: 05\n",
      "Processing month: 06\n",
      "Processing month: 07\n",
      "Processing month: 08\n",
      "Processing month: 09\n",
      "Processing month: 10\n",
      "Processing month: 11\n",
      "Processing month: 12\n",
      "Sampling and concatenation complete. Data saved to sampled_data.csv\n"
     ]
    }
   ],
   "source": [
    "import pandas as pd\n",
    "\n",
    "# Define months\n",
    "months = [\"01\", \"02\", \"03\", \"04\", \"05\", \"06\", \"07\", \"08\", \"09\", \"10\", \"11\", \"12\"]\n",
    "\n",
    "# Collect sampled DataFrames in a list\n",
    "sampled_data = []\n",
    "\n",
    "for month in months:\n",
    "    print(f\"Processing month: {month}\")\n",
    "    filepath = f\"Data_D/2018{month}-citibike-tripdata.csv\"\n",
    "    \n",
    "    # Read and sample\n",
    "    df = pd.read_csv(filepath, low_memory=False)\n",
    "    sampled_df = df.sample(frac=0.03, random_state=42)\n",
    "    \n",
    "    # Append sampled data to the list\n",
    "    sampled_data.append(sampled_df)\n",
    "\n",
    "# Concatenate all sampled data into one DataFrame\n",
    "main_df = pd.concat(sampled_data, ignore_index=True)\n",
    "\n",
    "# Save to CSV\n",
    "main_df.to_csv(\"sampled_data.csv\", index=False)\n",
    "\n",
    "print(\"Sampling and concatenation complete. Data saved to sampled_data.csv\")\n"
   ]
  },
  {
   "cell_type": "code",
   "execution_count": 4,
   "id": "ec9e7cf9-6bbd-41f2-aefb-9e6e9913322c",
   "metadata": {},
   "outputs": [],
   "source": [
    "main_df.to_csv(\"2018_citybike_rides_sample.csv\", index=False)"
   ]
  },
  {
   "cell_type": "code",
   "execution_count": 5,
   "id": "13e44220-ccd4-4be2-a352-afbd46191098",
   "metadata": {},
   "outputs": [
    {
     "name": "stdout",
     "output_type": "stream",
     "text": [
      "Processing month: 01\n",
      "Processing month: 02\n",
      "Processing month: 03\n",
      "Processing month: 04\n",
      "Processing month: 05\n",
      "Processing month: 06\n",
      "Processing month: 07\n",
      "Processing month: 08\n",
      "Processing month: 09\n",
      "Processing month: 10\n",
      "Processing month: 11\n",
      "Processing month: 12\n",
      "Sampling and concatenation complete. Data saved to sampled_data.csv\n"
     ]
    }
   ],
   "source": [
    "import pandas as pd\n",
    "\n",
    "# Define months\n",
    "months = [\"01\", \"02\", \"03\", \"04\", \"05\", \"06\", \"07\", \"08\", \"09\", \"10\", \"11\", \"12\"]\n",
    "\n",
    "# Collect sampled DataFrames in a list\n",
    "sampled_data = []\n",
    "\n",
    "for month in months:\n",
    "    print(f\"Processing month: {month}\")\n",
    "    filepath = f\"Data_D/2019{month}-citibike-tripdata.csv\"\n",
    "    \n",
    "    # Read and sample\n",
    "    df = pd.read_csv(filepath, low_memory=False)\n",
    "    sampled_df = df.sample(frac=0.03, random_state=42)\n",
    "    \n",
    "    # Append sampled data to the list\n",
    "    sampled_data.append(sampled_df)\n",
    "\n",
    "# Concatenate all sampled data into one DataFrame\n",
    "main_df = pd.concat(sampled_data, ignore_index=True)\n",
    "\n",
    "# Save to CSV\n",
    "main_df.to_csv(\"sampled_data.csv\", index=False)\n",
    "\n",
    "print(\"Sampling and concatenation complete. Data saved to sampled_data.csv\")"
   ]
  },
  {
   "cell_type": "code",
   "execution_count": 6,
   "id": "2ca5cc71-843e-4034-bf63-097b5a2b7b12",
   "metadata": {},
   "outputs": [],
   "source": [
    "main_df.to_csv(\"2019_citybike_rides_sample.csv\", index=False)"
   ]
  },
  {
   "cell_type": "code",
   "execution_count": null,
   "id": "2bf2ba5d-d627-499c-a0d9-fa74508a9596",
   "metadata": {},
   "outputs": [],
   "source": []
  }
 ],
 "metadata": {
  "kernelspec": {
   "display_name": "Python 3 (ipykernel)",
   "language": "python",
   "name": "python3"
  },
  "language_info": {
   "codemirror_mode": {
    "name": "ipython",
    "version": 3
   },
   "file_extension": ".py",
   "mimetype": "text/x-python",
   "name": "python",
   "nbconvert_exporter": "python",
   "pygments_lexer": "ipython3",
   "version": "3.12.7"
  }
 },
 "nbformat": 4,
 "nbformat_minor": 5
}
